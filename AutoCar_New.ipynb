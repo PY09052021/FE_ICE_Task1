{
 "cells": [
  {
   "cell_type": "code",
   "execution_count": 46,
   "id": "43523679",
   "metadata": {},
   "outputs": [],
   "source": [
    "import requests\n",
    "from bs4 import BeautifulSoup\n",
    "import pandas as pd\n",
    "\n",
    "URL = \"https://www.investopedia.com/articles/investing/052014/how-googles-selfdriving-car-will-change-everything.asp\"\n",
    "page = requests.get(URL)\n",
    "\n",
    "#print(page.text)\n",
    "\n",
    "soup = BeautifulSoup(page.content, \"html.parser\")\n",
    "\n",
    "#print(soup)\n",
    "#txt_elements = soup.find_all(\"div\", class_=\"comp article-body-content mntl-sc-page mntl-block\")\n",
    "txt_elements = soup.find_all(\"p\")\n",
    "\n",
    "Auto = []                                    \n",
    "for txt_element in txt_elements:\n",
    "     #print(\"Inner Text: {}\".format(txt_element.text))\n",
    "    #print(txt_element, end=\"\\n\"*2)\n",
    "    Auto.append(txt_element.text.replace('\\n', ' ').strip())\n",
    "\n",
    "#print(Auto)\n",
    "\n",
    "df = pd.DataFrame(Auto, columns=['Content'])\n",
    "\n",
    "df['Category'] = 'autonomous car'\n",
    "df['Complete_Filename'] = 'Investopedia'\n",
    "\n",
    "#df.head()\n",
    "\n",
    "df_bbc = pd.read_csv('C:\\\\FE\\\\News_dataset_BBC.csv', sep=';')\n",
    "#df_bbc.head()\n",
    "\n",
    "frames = [df,df_bbc]\n",
    "df_final_news = pd.DataFrame(pd.concat(frames,ignore_index = True))\n",
    "\n",
    "df_final_news = df_final_news.to_csv('C:\\\\FE\\\\autocar_dataset.csv')\n"
   ]
  },
  {
   "cell_type": "code",
   "execution_count": null,
   "id": "ea406c2d",
   "metadata": {},
   "outputs": [],
   "source": [
    "import pandas as pd\n",
    "import matplotlib.pyplot as plt\n",
    "import pickle\n",
    "import seaborn as sns\n",
    "sns.set_style(\"whitegrid\")\n",
    "import altair as alt"
   ]
  },
  {
   "cell_type": "code",
   "execution_count": null,
   "id": "04449ecc",
   "metadata": {},
   "outputs": [],
   "source": []
  }
 ],
 "metadata": {
  "kernelspec": {
   "display_name": "Python 3",
   "language": "python",
   "name": "python3"
  },
  "language_info": {
   "codemirror_mode": {
    "name": "ipython",
    "version": 3
   },
   "file_extension": ".py",
   "mimetype": "text/x-python",
   "name": "python",
   "nbconvert_exporter": "python",
   "pygments_lexer": "ipython3",
   "version": "3.8.8"
  }
 },
 "nbformat": 4,
 "nbformat_minor": 5
}
